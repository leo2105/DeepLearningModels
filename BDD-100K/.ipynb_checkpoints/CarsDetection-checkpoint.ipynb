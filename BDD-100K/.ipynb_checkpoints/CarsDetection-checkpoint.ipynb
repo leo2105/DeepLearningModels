{
 "cells": [
  {
   "cell_type": "code",
   "execution_count": null,
   "metadata": {},
   "outputs": [],
   "source": [
    "def process_data(images, boxes=None)\n",
    "    \"\"\"\n",
    "    Process the data\n",
    "    \"\"\"\n",
    "    images = [PIL.Image.fromarray(i) for i in images]\n",
    "    orig_size = np.array([images[0].width, images[0].height])\n",
    "    orig_size = np.expand_dims(orig_size, axis=0)\n",
    "    \n",
    "    # Image preprocessing\n",
    "    processed_images = [i.resize((416, 416), PIL.Image.BICUBIC) for i in images]\n",
    "    processed_images = [np.array(image, dtype=np.float) for image in processed_images]\n",
    "    processed_images = [image/255. for image in processed_images]\n",
    "    \n",
    "    if boxes in not None:\n",
    "        # Box preprocessing\n",
    "        # Original boxes stored as 1D list of class, x_min, y_min, x_max, y_max\n",
    "        boxes = [box.reshape()]"
   ]
  }
 ],
 "metadata": {
  "kernelspec": {
   "display_name": "Python 3",
   "language": "python",
   "name": "python3"
  },
  "language_info": {
   "codemirror_mode": {
    "name": "ipython",
    "version": 3
   },
   "file_extension": ".py",
   "mimetype": "text/x-python",
   "name": "python",
   "nbconvert_exporter": "python",
   "pygments_lexer": "ipython3",
   "version": "3.5.5"
  }
 },
 "nbformat": 4,
 "nbformat_minor": 2
}
