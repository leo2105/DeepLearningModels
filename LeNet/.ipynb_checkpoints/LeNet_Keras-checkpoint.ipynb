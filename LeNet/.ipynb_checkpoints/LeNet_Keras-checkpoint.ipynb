{
 "cells": [
  {
   "cell_type": "code",
   "execution_count": 20,
   "metadata": {},
   "outputs": [],
   "source": [
    "import numpy as np\n",
    "import matplotlib.pyplot as plt\n",
    "from keras.datasets import mnist\n",
    "from keras.models import Sequential\n",
    "from keras.layers import Dense, Conv2D, MaxPool2D, Flatten\n",
    "from keras.optimizers import SGD\n",
    "from keras.utils import to_categorical\n",
    "import keras.backend as K\n",
    "from keras.layers import Lambda, BatchNormalization, Dropout\n",
    "%matplotlib inline"
   ]
  },
  {
   "cell_type": "code",
   "execution_count": 2,
   "metadata": {},
   "outputs": [
    {
     "data": {
      "text/plain": [
       "((60000, 28, 28), (60000,))"
      ]
     },
     "execution_count": 2,
     "metadata": {},
     "output_type": "execute_result"
    }
   ],
   "source": [
    "(X_train, y_train), (X_test, y_test) = mnist.load_data()\n",
    "X_train.shape, y_train.shape"
   ]
  },
  {
   "cell_type": "code",
   "execution_count": 3,
   "metadata": {},
   "outputs": [
    {
     "data": {
      "image/png": "[encoded data removed]",
      "text/plain": [
       "<Figure size 432x288 with 1 Axes>"
      ]
     },
     "metadata": {},
     "output_type": "display_data"
    }
   ],
   "source": [
    "rand = np.random.choice(60000)\n",
    "plt.imshow(X_train[rand], 'gray')\n",
    "plt.title(y_train[rand])\n",
    "plt.axis('off');"
   ]
  },
  {
   "cell_type": "code",
   "execution_count": 4,
   "metadata": {},
   "outputs": [],
   "source": [
    "X_train = (X_train - 127.5) / 127.5\n",
    "X_test = (X_test - 127.5) / 127.5\n",
    "X_train = X_train[...,None]\n",
    "X_test = X_test[...,None]"
   ]
  },
  {
   "cell_type": "code",
   "execution_count": 5,
   "metadata": {},
   "outputs": [],
   "source": [
    "y_train = to_categorical(y_train, num_classes=10)\n",
    "y_test = to_categorical(y_test, num_classes=10)"
   ]
  },
  {
   "cell_type": "code",
   "execution_count": 21,
   "metadata": {},
   "outputs": [
    {
     "name": "stdout",
     "output_type": "stream",
     "text": [
      "_________________________________________________________________\n",
      "Layer (type)                 Output Shape              Param #   \n",
      "=================================================================\n",
      "lambda_1 (Lambda)            (None, 28, 28, 1)         0         \n",
      "_________________________________________________________________\n",
      "conv2d_3 (Conv2D)            (None, 28, 28, 16)        144       \n",
      "_________________________________________________________________\n",
      "batch_normalization_1 (Batch (None, 28, 28, 16)        64        \n",
      "_________________________________________________________________\n",
      "max_pooling2d_3 (MaxPooling2 (None, 14, 14, 16)        0         \n",
      "_________________________________________________________________\n",
      "lambda_2 (Lambda)            (None, 14, 14, 16)        0         \n",
      "_________________________________________________________________\n",
      "conv2d_4 (Conv2D)            (None, 14, 14, 16)        2304      \n",
      "_________________________________________________________________\n",
      "batch_normalization_2 (Batch (None, 14, 14, 16)        64        \n",
      "_________________________________________________________________\n",
      "max_pooling2d_4 (MaxPooling2 (None, 7, 7, 16)          0         \n",
      "_________________________________________________________________\n",
      "flatten_2 (Flatten)          (None, 784)               0         \n",
      "_________________________________________________________________\n",
      "lambda_3 (Lambda)            (None, 784)               0         \n",
      "_________________________________________________________________\n",
      "dense_2 (Dense)              (None, 10)                7850      \n",
      "=================================================================\n",
      "Total params: 10,426\n",
      "Trainable params: 10,362\n",
      "Non-trainable params: 64\n",
      "_________________________________________________________________\n"
     ]
    }
   ],
   "source": [
    "model = Sequential()\n",
    "\n",
    "model.add(Lambda(lambda x: K.dropout(x, level=0.1), input_shape=(28, 28, 1)))\n",
    "model.add(Conv2D(16, (3, 3), padding='same', activation='relu', use_bias=False))\n",
    "model.add(BatchNormalization())\n",
    "\n",
    "model.add(MaxPool2D())\n",
    "model.add(Lambda(lambda x: K.dropout(x, level=0.1)))\n",
    "model.add(Conv2D(16, (3, 3), padding='same', activation='relu', use_bias=False))\n",
    "model.add(BatchNormalization())\n",
    "\n",
    "model.add(MaxPool2D())\n",
    "model.add(Flatten())\n",
    "model.add(Lambda(lambda x: K.dropout(x, level=0.5)))\n",
    "model.add(Dense(10, activation='softmax'))\n",
    "\n",
    "model.compile(loss='categorical_crossentropy',\n",
    "              optimizer=SGD(1e-2),\n",
    "              metrics=['accuracy'],\n",
    "             )\n",
    "\n",
    "model.summary()"
   ]
  },
  {
   "cell_type": "code",
   "execution_count": 22,
   "metadata": {
    "scrolled": true
   },
   "outputs": [
    {
     "name": "stdout",
     "output_type": "stream",
     "text": [
      "Train on 60000 samples, validate on 10000 samples\n",
      "Epoch 1/100\n",
      "60000/60000 [==============================] - 3s 42us/step - loss: 1.0428 - acc: 0.6913 - val_loss: 0.4772 - val_acc: 0.8469\n",
      "Epoch 2/100\n",
      "60000/60000 [==============================] - 2s 32us/step - loss: 0.3986 - acc: 0.8723 - val_loss: 0.3235 - val_acc: 0.8962\n",
      "Epoch 3/100\n",
      "60000/60000 [==============================] - 2s 31us/step - loss: 0.3045 - acc: 0.9026 - val_loss: 0.2527 - val_acc: 0.9221\n",
      "Epoch 4/100\n",
      "60000/60000 [==============================] - 2s 31us/step - loss: 0.2567 - acc: 0.9192 - val_loss: 0.2166 - val_acc: 0.9306\n",
      "Epoch 5/100\n",
      "60000/60000 [==============================] - 2s 31us/step - loss: 0.2274 - acc: 0.9269 - val_loss: 0.2007 - val_acc: 0.9374\n",
      "Epoch 6/100\n",
      "60000/60000 [==============================] - 2s 30us/step - loss: 0.2093 - acc: 0.9340 - val_loss: 0.1895 - val_acc: 0.9412\n",
      "Epoch 7/100\n",
      "60000/60000 [==============================] - 2s 32us/step - loss: 0.1964 - acc: 0.9380 - val_loss: 0.1810 - val_acc: 0.9429\n",
      "Epoch 8/100\n",
      "60000/60000 [==============================] - 2s 32us/step - loss: 0.1862 - acc: 0.9417 - val_loss: 0.1675 - val_acc: 0.9488\n",
      "Epoch 9/100\n",
      "60000/60000 [==============================] - 2s 31us/step - loss: 0.1766 - acc: 0.9455 - val_loss: 0.1570 - val_acc: 0.9489\n",
      "Epoch 10/100\n",
      "60000/60000 [==============================] - 2s 32us/step - loss: 0.1695 - acc: 0.9469 - val_loss: 0.1508 - val_acc: 0.9535\n",
      "Epoch 11/100\n",
      "60000/60000 [==============================] - 2s 31us/step - loss: 0.1622 - acc: 0.9492 - val_loss: 0.1425 - val_acc: 0.9545\n",
      "Epoch 12/100\n",
      "60000/60000 [==============================] - 2s 32us/step - loss: 0.1564 - acc: 0.9505 - val_loss: 0.1452 - val_acc: 0.9547\n",
      "Epoch 13/100\n",
      "60000/60000 [==============================] - 2s 32us/step - loss: 0.1521 - acc: 0.9524 - val_loss: 0.1422 - val_acc: 0.9554\n",
      "Epoch 14/100\n",
      "60000/60000 [==============================] - 2s 31us/step - loss: 0.1485 - acc: 0.9545 - val_loss: 0.1305 - val_acc: 0.9602\n",
      "Epoch 15/100\n",
      "60000/60000 [==============================] - 2s 31us/step - loss: 0.1462 - acc: 0.9543 - val_loss: 0.1298 - val_acc: 0.9606\n",
      "Epoch 16/100\n",
      "60000/60000 [==============================] - 2s 31us/step - loss: 0.1431 - acc: 0.9565 - val_loss: 0.1303 - val_acc: 0.9601\n",
      "Epoch 17/100\n",
      "60000/60000 [==============================] - 2s 31us/step - loss: 0.1410 - acc: 0.9556 - val_loss: 0.1277 - val_acc: 0.9610\n",
      "Epoch 18/100\n",
      "60000/60000 [==============================] - 2s 32us/step - loss: 0.1383 - acc: 0.9569 - val_loss: 0.1263 - val_acc: 0.9602\n",
      "Epoch 19/100\n",
      "60000/60000 [==============================] - 2s 31us/step - loss: 0.1350 - acc: 0.9580 - val_loss: 0.1182 - val_acc: 0.9645\n",
      "Epoch 20/100\n",
      "60000/60000 [==============================] - 2s 31us/step - loss: 0.1316 - acc: 0.9584 - val_loss: 0.1245 - val_acc: 0.9598\n",
      "Epoch 21/100\n",
      "60000/60000 [==============================] - 2s 30us/step - loss: 0.1291 - acc: 0.9587 - val_loss: 0.1134 - val_acc: 0.9639\n",
      "Epoch 22/100\n",
      "60000/60000 [==============================] - 2s 31us/step - loss: 0.1274 - acc: 0.9602 - val_loss: 0.1144 - val_acc: 0.9654\n",
      "Epoch 23/100\n",
      "60000/60000 [==============================] - 2s 32us/step - loss: 0.1277 - acc: 0.9605 - val_loss: 0.1114 - val_acc: 0.9636\n",
      "Epoch 24/100\n",
      "60000/60000 [==============================] - 2s 32us/step - loss: 0.1256 - acc: 0.9610 - val_loss: 0.1191 - val_acc: 0.9617\n",
      "Epoch 25/100\n",
      "60000/60000 [==============================] - 2s 31us/step - loss: 0.1221 - acc: 0.9629 - val_loss: 0.1134 - val_acc: 0.9651\n",
      "Epoch 26/100\n",
      "60000/60000 [==============================] - 2s 31us/step - loss: 0.1258 - acc: 0.9614 - val_loss: 0.1097 - val_acc: 0.9636\n",
      "Epoch 27/100\n",
      "60000/60000 [==============================] - 2s 31us/step - loss: 0.1200 - acc: 0.9622 - val_loss: 0.1111 - val_acc: 0.9652\n",
      "Epoch 28/100\n",
      "60000/60000 [==============================] - 2s 31us/step - loss: 0.1200 - acc: 0.9619 - val_loss: 0.1089 - val_acc: 0.9655\n",
      "Epoch 29/100\n",
      "60000/60000 [==============================] - 2s 32us/step - loss: 0.1195 - acc: 0.9630 - val_loss: 0.1110 - val_acc: 0.9638\n",
      "Epoch 30/100\n",
      "60000/60000 [==============================] - 2s 31us/step - loss: 0.1166 - acc: 0.9634 - val_loss: 0.1079 - val_acc: 0.9656\n",
      "Epoch 31/100\n",
      "60000/60000 [==============================] - 2s 31us/step - loss: 0.1179 - acc: 0.9639 - val_loss: 0.1081 - val_acc: 0.9654\n",
      "Epoch 32/100\n",
      "60000/60000 [==============================] - 2s 30us/step - loss: 0.1171 - acc: 0.9637 - val_loss: 0.1074 - val_acc: 0.9680\n",
      "Epoch 33/100\n",
      "60000/60000 [==============================] - 2s 30us/step - loss: 0.1124 - acc: 0.9655 - val_loss: 0.1012 - val_acc: 0.9680\n",
      "Epoch 34/100\n",
      "60000/60000 [==============================] - 2s 31us/step - loss: 0.1154 - acc: 0.9636 - val_loss: 0.1094 - val_acc: 0.9667\n",
      "Epoch 35/100\n",
      "60000/60000 [==============================] - 2s 29us/step - loss: 0.1099 - acc: 0.9655 - val_loss: 0.1054 - val_acc: 0.9681\n",
      "Epoch 36/100\n",
      "60000/60000 [==============================] - 2s 32us/step - loss: 0.1117 - acc: 0.9663 - val_loss: 0.1002 - val_acc: 0.9683\n",
      "Epoch 37/100\n",
      "60000/60000 [==============================] - 2s 30us/step - loss: 0.1105 - acc: 0.9647 - val_loss: 0.1008 - val_acc: 0.9690\n",
      "Epoch 38/100\n",
      "60000/60000 [==============================] - 2s 31us/step - loss: 0.1079 - acc: 0.9673 - val_loss: 0.0979 - val_acc: 0.9702\n",
      "Epoch 39/100\n",
      "60000/60000 [==============================] - 2s 31us/step - loss: 0.1091 - acc: 0.9659 - val_loss: 0.1052 - val_acc: 0.9665\n",
      "Epoch 40/100\n",
      "60000/60000 [==============================] - 2s 30us/step - loss: 0.1080 - acc: 0.9659 - val_loss: 0.1020 - val_acc: 0.9666\n",
      "Epoch 41/100\n",
      "60000/60000 [==============================] - 2s 31us/step - loss: 0.1072 - acc: 0.9660 - val_loss: 0.0956 - val_acc: 0.9692\n",
      "Epoch 42/100\n",
      "60000/60000 [==============================] - 2s 32us/step - loss: 0.1095 - acc: 0.9665 - val_loss: 0.0991 - val_acc: 0.9685\n",
      "Epoch 43/100\n",
      "60000/60000 [==============================] - 2s 31us/step - loss: 0.1088 - acc: 0.9661 - val_loss: 0.1013 - val_acc: 0.9673\n",
      "Epoch 44/100\n",
      "60000/60000 [==============================] - 2s 30us/step - loss: 0.1089 - acc: 0.9663 - val_loss: 0.0931 - val_acc: 0.9729\n",
      "Epoch 45/100\n",
      "60000/60000 [==============================] - 2s 31us/step - loss: 0.1068 - acc: 0.9663 - val_loss: 0.0968 - val_acc: 0.9704\n",
      "Epoch 46/100\n",
      "60000/60000 [==============================] - 2s 30us/step - loss: 0.1047 - acc: 0.9675 - val_loss: 0.0922 - val_acc: 0.9702\n",
      "Epoch 47/100\n",
      "60000/60000 [==============================] - 2s 31us/step - loss: 0.1053 - acc: 0.9677 - val_loss: 0.1006 - val_acc: 0.9693\n",
      "Epoch 48/100\n",
      "60000/60000 [==============================] - 2s 31us/step - loss: 0.1053 - acc: 0.9675 - val_loss: 0.0995 - val_acc: 0.9697\n",
      "Epoch 49/100\n",
      "60000/60000 [==============================] - 2s 31us/step - loss: 0.1069 - acc: 0.9670 - val_loss: 0.0959 - val_acc: 0.9687\n",
      "Epoch 50/100\n",
      "60000/60000 [==============================] - 2s 31us/step - loss: 0.1031 - acc: 0.9668 - val_loss: 0.0995 - val_acc: 0.9689\n",
      "Epoch 51/100\n",
      "60000/60000 [==============================] - 2s 31us/step - loss: 0.1002 - acc: 0.9688 - val_loss: 0.0936 - val_acc: 0.9699\n",
      "Epoch 52/100\n",
      "60000/60000 [==============================] - 2s 31us/step - loss: 0.1004 - acc: 0.9679 - val_loss: 0.0915 - val_acc: 0.9724\n",
      "Epoch 53/100\n",
      "60000/60000 [==============================] - 2s 31us/step - loss: 0.1004 - acc: 0.9684 - val_loss: 0.1004 - val_acc: 0.9693\n",
      "Epoch 54/100\n",
      "60000/60000 [==============================] - 2s 31us/step - loss: 0.1003 - acc: 0.9684 - val_loss: 0.0943 - val_acc: 0.9706\n",
      "Epoch 55/100\n",
      "60000/60000 [==============================] - 2s 31us/step - loss: 0.1002 - acc: 0.9680 - val_loss: 0.0928 - val_acc: 0.9684\n",
      "Epoch 56/100\n",
      "60000/60000 [==============================] - 2s 31us/step - loss: 0.1005 - acc: 0.9683 - val_loss: 0.0937 - val_acc: 0.9687\n",
      "Epoch 57/100\n",
      "60000/60000 [==============================] - 2s 30us/step - loss: 0.0994 - acc: 0.9688 - val_loss: 0.0947 - val_acc: 0.9703\n",
      "Epoch 58/100\n",
      "60000/60000 [==============================] - 2s 30us/step - loss: 0.1000 - acc: 0.9689 - val_loss: 0.0920 - val_acc: 0.9728\n",
      "Epoch 59/100\n"
     ]
    },
    {
     "name": "stdout",
     "output_type": "stream",
     "text": [
      "60000/60000 [==============================] - 2s 30us/step - loss: 0.0993 - acc: 0.9690 - val_loss: 0.0939 - val_acc: 0.9718\n",
      "Epoch 60/100\n",
      "60000/60000 [==============================] - 2s 31us/step - loss: 0.0981 - acc: 0.9690 - val_loss: 0.0938 - val_acc: 0.9700\n",
      "Epoch 61/100\n",
      "60000/60000 [==============================] - 2s 32us/step - loss: 0.0985 - acc: 0.9693 - val_loss: 0.0929 - val_acc: 0.9698\n",
      "Epoch 62/100\n",
      "60000/60000 [==============================] - 2s 30us/step - loss: 0.0988 - acc: 0.9693 - val_loss: 0.0922 - val_acc: 0.9719\n",
      "Epoch 63/100\n",
      "60000/60000 [==============================] - 2s 31us/step - loss: 0.0970 - acc: 0.9698 - val_loss: 0.0940 - val_acc: 0.9687\n",
      "Epoch 64/100\n",
      "60000/60000 [==============================] - 2s 32us/step - loss: 0.0983 - acc: 0.9693 - val_loss: 0.0914 - val_acc: 0.9740\n",
      "Epoch 65/100\n",
      "60000/60000 [==============================] - 2s 32us/step - loss: 0.0958 - acc: 0.9696 - val_loss: 0.0887 - val_acc: 0.9735\n",
      "Epoch 66/100\n",
      "60000/60000 [==============================] - 2s 31us/step - loss: 0.0970 - acc: 0.9692 - val_loss: 0.0881 - val_acc: 0.9729\n",
      "Epoch 67/100\n",
      "60000/60000 [==============================] - 2s 31us/step - loss: 0.0935 - acc: 0.9704 - val_loss: 0.0932 - val_acc: 0.9714\n",
      "Epoch 68/100\n",
      "60000/60000 [==============================] - 2s 32us/step - loss: 0.0956 - acc: 0.9697 - val_loss: 0.0886 - val_acc: 0.9721\n",
      "Epoch 69/100\n",
      "60000/60000 [==============================] - 2s 32us/step - loss: 0.0945 - acc: 0.9703 - val_loss: 0.0898 - val_acc: 0.9713\n",
      "Epoch 70/100\n",
      "60000/60000 [==============================] - 2s 31us/step - loss: 0.0941 - acc: 0.9709 - val_loss: 0.0929 - val_acc: 0.9706\n",
      "Epoch 71/100\n",
      "60000/60000 [==============================] - 2s 31us/step - loss: 0.0936 - acc: 0.9708 - val_loss: 0.0920 - val_acc: 0.9721\n",
      "Epoch 72/100\n",
      "60000/60000 [==============================] - 2s 31us/step - loss: 0.0925 - acc: 0.9709 - val_loss: 0.0864 - val_acc: 0.9731\n",
      "Epoch 73/100\n",
      "60000/60000 [==============================] - 2s 31us/step - loss: 0.0940 - acc: 0.9699 - val_loss: 0.0848 - val_acc: 0.9723\n",
      "Epoch 74/100\n",
      "60000/60000 [==============================] - 2s 31us/step - loss: 0.0927 - acc: 0.9707 - val_loss: 0.0919 - val_acc: 0.9708\n",
      "Epoch 75/100\n",
      "60000/60000 [==============================] - 2s 31us/step - loss: 0.0906 - acc: 0.9721 - val_loss: 0.0923 - val_acc: 0.9704\n",
      "Epoch 76/100\n",
      "60000/60000 [==============================] - 2s 31us/step - loss: 0.0941 - acc: 0.9703 - val_loss: 0.0847 - val_acc: 0.9750\n",
      "Epoch 77/100\n",
      "60000/60000 [==============================] - 2s 31us/step - loss: 0.0926 - acc: 0.9708 - val_loss: 0.0874 - val_acc: 0.9708\n",
      "Epoch 78/100\n",
      "60000/60000 [==============================] - 2s 31us/step - loss: 0.0950 - acc: 0.9703 - val_loss: 0.0902 - val_acc: 0.9710\n",
      "Epoch 79/100\n",
      "60000/60000 [==============================] - 2s 31us/step - loss: 0.0899 - acc: 0.9711 - val_loss: 0.0843 - val_acc: 0.9749\n",
      "Epoch 80/100\n",
      "60000/60000 [==============================] - 2s 30us/step - loss: 0.0927 - acc: 0.9707 - val_loss: 0.0840 - val_acc: 0.9732\n",
      "Epoch 81/100\n",
      "60000/60000 [==============================] - 2s 31us/step - loss: 0.0916 - acc: 0.9717 - val_loss: 0.0871 - val_acc: 0.9706\n",
      "Epoch 82/100\n",
      "60000/60000 [==============================] - 2s 31us/step - loss: 0.0920 - acc: 0.9708 - val_loss: 0.0878 - val_acc: 0.9723\n",
      "Epoch 83/100\n",
      "60000/60000 [==============================] - 2s 30us/step - loss: 0.0902 - acc: 0.9711 - val_loss: 0.0855 - val_acc: 0.9742\n",
      "Epoch 84/100\n",
      "60000/60000 [==============================] - 2s 31us/step - loss: 0.0909 - acc: 0.9708 - val_loss: 0.0924 - val_acc: 0.9713\n",
      "Epoch 85/100\n",
      "60000/60000 [==============================] - 2s 31us/step - loss: 0.0905 - acc: 0.9713 - val_loss: 0.0908 - val_acc: 0.9709\n",
      "Epoch 86/100\n",
      "60000/60000 [==============================] - 2s 31us/step - loss: 0.0896 - acc: 0.9713 - val_loss: 0.0900 - val_acc: 0.9713\n",
      "Epoch 87/100\n",
      "60000/60000 [==============================] - 2s 31us/step - loss: 0.0915 - acc: 0.9714 - val_loss: 0.0877 - val_acc: 0.9741\n",
      "Epoch 88/100\n",
      "60000/60000 [==============================] - 2s 31us/step - loss: 0.0906 - acc: 0.9706 - val_loss: 0.0840 - val_acc: 0.9734\n",
      "Epoch 89/100\n",
      "60000/60000 [==============================] - 2s 31us/step - loss: 0.0866 - acc: 0.9728 - val_loss: 0.0863 - val_acc: 0.9739\n",
      "Epoch 90/100\n",
      "60000/60000 [==============================] - 2s 32us/step - loss: 0.0901 - acc: 0.9718 - val_loss: 0.0851 - val_acc: 0.9727\n",
      "Epoch 91/100\n",
      "60000/60000 [==============================] - 2s 32us/step - loss: 0.0912 - acc: 0.9715 - val_loss: 0.0904 - val_acc: 0.9709\n",
      "Epoch 92/100\n",
      "60000/60000 [==============================] - 2s 31us/step - loss: 0.0896 - acc: 0.9719 - val_loss: 0.0853 - val_acc: 0.9726\n",
      "Epoch 93/100\n",
      "60000/60000 [==============================] - 2s 31us/step - loss: 0.0881 - acc: 0.9722 - val_loss: 0.0880 - val_acc: 0.9714\n",
      "Epoch 94/100\n",
      "60000/60000 [==============================] - 2s 32us/step - loss: 0.0883 - acc: 0.9719 - val_loss: 0.0811 - val_acc: 0.9743\n",
      "Epoch 95/100\n",
      "60000/60000 [==============================] - 2s 31us/step - loss: 0.0865 - acc: 0.9724 - val_loss: 0.0859 - val_acc: 0.9732\n",
      "Epoch 96/100\n",
      "60000/60000 [==============================] - 2s 32us/step - loss: 0.0884 - acc: 0.9726 - val_loss: 0.0815 - val_acc: 0.9752\n",
      "Epoch 97/100\n",
      "60000/60000 [==============================] - 2s 31us/step - loss: 0.0889 - acc: 0.9720 - val_loss: 0.0821 - val_acc: 0.9749\n",
      "Epoch 98/100\n",
      "60000/60000 [==============================] - 2s 31us/step - loss: 0.0872 - acc: 0.9721 - val_loss: 0.0821 - val_acc: 0.9741\n",
      "Epoch 99/100\n",
      "60000/60000 [==============================] - 2s 31us/step - loss: 0.0867 - acc: 0.9728 - val_loss: 0.0796 - val_acc: 0.9731\n",
      "Epoch 100/100\n",
      "60000/60000 [==============================] - 2s 30us/step - loss: 0.0884 - acc: 0.9724 - val_loss: 0.0888 - val_acc: 0.9713\n"
     ]
    }
   ],
   "source": [
    "log = model.fit(X_train, y_train, validation_data=(X_test, y_test), epochs=100, batch_size=256)"
   ]
  },
  {
   "cell_type": "code",
   "execution_count": 23,
   "metadata": {},
   "outputs": [
    {
     "data": {
      "text/plain": [
       "<matplotlib.legend.Legend at 0x7f0480141518>"
      ]
     },
     "execution_count": 23,
     "metadata": {},
     "output_type": "execute_result"
    },
    {
     "data": {
      "image/png": "[encoded data removed]",
      "text/plain": [
       "<Figure size 432x288 with 1 Axes>"
      ]
     },
     "metadata": {},
     "output_type": "display_data"
    }
   ],
   "source": [
    "plt.plot(log.history['loss'], label='train_set')\n",
    "plt.plot(log.history['val_loss'], label='test_set')\n",
    "plt.legend()"
   ]
  },
  {
   "cell_type": "code",
   "execution_count": 24,
   "metadata": {},
   "outputs": [
    {
     "name": "stdout",
     "output_type": "stream",
     "text": [
      "60000/60000 [==============================] - 1s 13us/step\n"
     ]
    },
    {
     "data": {
      "text/plain": [
       "[0.08641130243142446, 0.9719166666666667]"
      ]
     },
     "execution_count": 24,
     "metadata": {},
     "output_type": "execute_result"
    }
   ],
   "source": [
    "model.evaluate(X_train, y_train, batch_size=512)"
   ]
  },
  {
   "cell_type": "code",
   "execution_count": 25,
   "metadata": {},
   "outputs": [
    {
     "name": "stdout",
     "output_type": "stream",
     "text": [
      "10000/10000 [==============================] - 0s 13us/step\n"
     ]
    },
    {
     "data": {
      "text/plain": [
       "[0.08261376172304154, 0.9730000007629395]"
      ]
     },
     "execution_count": 25,
     "metadata": {},
     "output_type": "execute_result"
    }
   ],
   "source": [
    "model.evaluate(X_test, y_test, batch_size=512)"
   ]
  }
 ],
 "metadata": {
  "kernelspec": {
   "display_name": "Python 3",
   "language": "python",
   "name": "python3"
  },
  "language_info": {
   "codemirror_mode": {
    "name": "ipython",
    "version": 3
   },
   "file_extension": ".py",
   "mimetype": "text/x-python",
   "name": "python",
   "nbconvert_exporter": "python",
   "pygments_lexer": "ipython3",
   "version": "3.5.5"
  }
 },
 "nbformat": 4,
 "nbformat_minor": 2
}
