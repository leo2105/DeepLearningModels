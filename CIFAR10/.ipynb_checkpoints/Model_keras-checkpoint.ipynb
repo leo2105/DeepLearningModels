{
 "cells": [
  {
   "cell_type": "code",
   "execution_count": 1,
   "metadata": {},
   "outputs": [
    {
     "name": "stderr",
     "output_type": "stream",
     "text": [
      "Using TensorFlow backend.\n"
     ]
    }
   ],
   "source": [
    "import numpy as np\n",
    "import matplotlib.pyplot as plt\n",
    "from keras.datasets import cifar10\n",
    "from keras.models import Sequential\n",
    "from keras.layers import Dense, Conv2D, MaxPool2D, Flatten\n",
    "from keras.optimizers import SGD\n",
    "from keras.utils import to_categorical\n",
    "import keras.backend as K\n",
    "from keras.layers import Lambda, BatchNormalization, Dropout\n",
    "%matplotlib inline"
   ]
  },
  {
   "cell_type": "code",
   "execution_count": 3,
   "metadata": {},
   "outputs": [],
   "source": [
    "(X_train, y_train), (X_test, y_test) = cifar10.load_data()"
   ]
  },
  {
   "cell_type": "code",
   "execution_count": 4,
   "metadata": {},
   "outputs": [
    {
     "data": {
      "text/plain": [
       "(50000, 32, 32, 3)"
      ]
     },
     "execution_count": 4,
     "metadata": {},
     "output_type": "execute_result"
    }
   ],
   "source": [
    "X_train.shape"
   ]
  },
  {
   "cell_type": "code",
   "execution_count": 24,
   "metadata": {},
   "outputs": [
    {
     "name": "stdout",
     "output_type": "stream",
     "text": [
      "[5]\n"
     ]
    },
    {
     "data": {
      "image/png": "[encoded data removed]",
      "text/plain": [
       "<Figure size 432x288 with 1 Axes>"
      ]
     },
     "metadata": {},
     "output_type": "display_data"
    }
   ],
   "source": [
    "rnd = np.random.choice(X_train.shape[0])\n",
    "print(y_train[rnd])\n",
    "plt.imshow(X_train[rnd])\n",
    "plt.axis('off');"
   ]
  },
  {
   "cell_type": "code",
   "execution_count": 25,
   "metadata": {},
   "outputs": [],
   "source": [
    "X_train = (X_train - 127.5) / 127.5\n",
    "X_test = (X_test - 127.5) / 127.5"
   ]
  },
  {
   "cell_type": "code",
   "execution_count": 26,
   "metadata": {},
   "outputs": [],
   "source": [
    "y_train = to_categorical(y_train, num_classes=10)\n",
    "y_test = to_categorical(y_test, num_classes=10)"
   ]
  },
  {
   "cell_type": "code",
   "execution_count": 31,
   "metadata": {},
   "outputs": [
    {
     "name": "stdout",
     "output_type": "stream",
     "text": [
      "_________________________________________________________________\n",
      "Layer (type)                 Output Shape              Param #   \n",
      "=================================================================\n",
      "lambda_9 (Lambda)            (None, 32, 32, 3)         0         \n",
      "_________________________________________________________________\n",
      "conv2d_7 (Conv2D)            (None, 32, 32, 16)        432       \n",
      "_________________________________________________________________\n",
      "batch_normalization_7 (Batch (None, 32, 32, 16)        64        \n",
      "_________________________________________________________________\n",
      "max_pooling2d_7 (MaxPooling2 (None, 16, 16, 16)        0         \n",
      "_________________________________________________________________\n",
      "lambda_10 (Lambda)           (None, 16, 16, 16)        0         \n",
      "_________________________________________________________________\n",
      "conv2d_8 (Conv2D)            (None, 16, 16, 16)        2304      \n",
      "_________________________________________________________________\n",
      "batch_normalization_8 (Batch (None, 16, 16, 16)        64        \n",
      "_________________________________________________________________\n",
      "max_pooling2d_8 (MaxPooling2 (None, 8, 8, 16)          0         \n",
      "_________________________________________________________________\n",
      "flatten_4 (Flatten)          (None, 1024)              0         \n",
      "_________________________________________________________________\n",
      "lambda_11 (Lambda)           (None, 1024)              0         \n",
      "_________________________________________________________________\n",
      "dense_3 (Dense)              (None, 10)                10250     \n",
      "=================================================================\n",
      "Total params: 13,114\n",
      "Trainable params: 13,050\n",
      "Non-trainable params: 64\n",
      "_________________________________________________________________\n"
     ]
    }
   ],
   "source": [
    "model = Sequential()\n",
    "\n",
    "model.add(Lambda(lambda x: K.dropout(x, level=0.1), input_shape=(32, 32, 3)))\n",
    "model.add(Conv2D(16, (3, 3), padding='same', activation='relu', use_bias=False))\n",
    "model.add(BatchNormalization())\n",
    "\n",
    "model.add(MaxPool2D())\n",
    "model.add(Lambda(lambda x: K.dropout(x, level=0.1)))\n",
    "model.add(Conv2D(16, (3, 3), padding='same', activation='relu', use_bias=False))\n",
    "model.add(BatchNormalization())\n",
    "\n",
    "model.add(MaxPool2D())\n",
    "model.add(Flatten())\n",
    "model.add(Lambda(lambda x: K.dropout(x, level=0.5)))\n",
    "\n",
    "model.add(Dense(10, activation='softmax'))\n",
    "\n",
    "model.compile(loss = 'categorical_crossentropy',\n",
    "              optimizer=SGD(1e-2),\n",
    "              metrics=['accuracy']\n",
    "             )\n",
    "model.summary()"
   ]
  },
  {
   "cell_type": "code",
   "execution_count": 32,
   "metadata": {
    "scrolled": true
   },
   "outputs": [
    {
     "name": "stdout",
     "output_type": "stream",
     "text": [
      "Train on 50000 samples, validate on 10000 samples\n",
      "Epoch 1/100\n",
      "50000/50000 [==============================] - 5s 105us/step - loss: 2.6822 - acc: 0.2414 - val_loss: 2.2088 - val_acc: 0.2980\n",
      "Epoch 2/100\n",
      "50000/50000 [==============================] - 4s 71us/step - loss: 2.0102 - acc: 0.3313 - val_loss: 1.8661 - val_acc: 0.3551\n",
      "Epoch 3/100\n",
      "50000/50000 [==============================] - 4s 72us/step - loss: 1.7853 - acc: 0.3778 - val_loss: 1.7058 - val_acc: 0.4056\n",
      "Epoch 4/100\n",
      "50000/50000 [==============================] - 4s 71us/step - loss: 1.6653 - acc: 0.4087 - val_loss: 1.6103 - val_acc: 0.4269\n",
      "Epoch 5/100\n",
      "50000/50000 [==============================] - 4s 72us/step - loss: 1.5907 - acc: 0.4323 - val_loss: 1.5667 - val_acc: 0.4388\n",
      "Epoch 6/100\n",
      "50000/50000 [==============================] - 4s 71us/step - loss: 1.5370 - acc: 0.4518 - val_loss: 1.5322 - val_acc: 0.4457\n",
      "Epoch 7/100\n",
      "50000/50000 [==============================] - 3s 69us/step - loss: 1.5016 - acc: 0.4635 - val_loss: 1.4914 - val_acc: 0.4636\n",
      "Epoch 8/100\n",
      "50000/50000 [==============================] - 4s 71us/step - loss: 1.4750 - acc: 0.4725 - val_loss: 1.4678 - val_acc: 0.4723\n",
      "Epoch 9/100\n",
      "50000/50000 [==============================] - 4s 72us/step - loss: 1.4536 - acc: 0.4805 - val_loss: 1.4457 - val_acc: 0.4815\n",
      "Epoch 10/100\n",
      "50000/50000 [==============================] - 3s 70us/step - loss: 1.4277 - acc: 0.4906 - val_loss: 1.4396 - val_acc: 0.4854\n",
      "Epoch 11/100\n",
      "50000/50000 [==============================] - 4s 72us/step - loss: 1.4193 - acc: 0.4949 - val_loss: 1.4155 - val_acc: 0.5000\n",
      "Epoch 12/100\n",
      "50000/50000 [==============================] - 4s 71us/step - loss: 1.4047 - acc: 0.4998 - val_loss: 1.4098 - val_acc: 0.4958\n",
      "Epoch 13/100\n",
      "50000/50000 [==============================] - 4s 73us/step - loss: 1.3937 - acc: 0.5047 - val_loss: 1.3987 - val_acc: 0.5016\n",
      "Epoch 14/100\n",
      "50000/50000 [==============================] - 4s 72us/step - loss: 1.3818 - acc: 0.5107 - val_loss: 1.3890 - val_acc: 0.5066\n",
      "Epoch 15/100\n",
      "50000/50000 [==============================] - 4s 73us/step - loss: 1.3748 - acc: 0.5110 - val_loss: 1.3809 - val_acc: 0.5077\n",
      "Epoch 16/100\n",
      "50000/50000 [==============================] - 4s 74us/step - loss: 1.3611 - acc: 0.5150 - val_loss: 1.3748 - val_acc: 0.5112\n",
      "Epoch 17/100\n",
      "50000/50000 [==============================] - 4s 73us/step - loss: 1.3529 - acc: 0.5198 - val_loss: 1.3568 - val_acc: 0.5145\n",
      "Epoch 18/100\n",
      "50000/50000 [==============================] - 4s 73us/step - loss: 1.3489 - acc: 0.5203 - val_loss: 1.3558 - val_acc: 0.5183\n",
      "Epoch 19/100\n",
      "50000/50000 [==============================] - 4s 72us/step - loss: 1.3353 - acc: 0.5286 - val_loss: 1.3517 - val_acc: 0.5190\n",
      "Epoch 20/100\n",
      "50000/50000 [==============================] - 4s 73us/step - loss: 1.3310 - acc: 0.5293 - val_loss: 1.3598 - val_acc: 0.5142\n",
      "Epoch 21/100\n",
      "50000/50000 [==============================] - 4s 71us/step - loss: 1.3235 - acc: 0.5309 - val_loss: 1.3326 - val_acc: 0.5238\n",
      "Epoch 22/100\n",
      "50000/50000 [==============================] - 4s 74us/step - loss: 1.3168 - acc: 0.5335 - val_loss: 1.3268 - val_acc: 0.5259\n",
      "Epoch 23/100\n",
      "50000/50000 [==============================] - 4s 72us/step - loss: 1.3048 - acc: 0.5376 - val_loss: 1.3123 - val_acc: 0.5349\n",
      "Epoch 24/100\n",
      "50000/50000 [==============================] - 4s 71us/step - loss: 1.2964 - acc: 0.5400 - val_loss: 1.3264 - val_acc: 0.5316\n",
      "Epoch 25/100\n",
      "50000/50000 [==============================] - 4s 72us/step - loss: 1.2924 - acc: 0.5431 - val_loss: 1.3064 - val_acc: 0.5348\n",
      "Epoch 26/100\n",
      "50000/50000 [==============================] - 4s 71us/step - loss: 1.2840 - acc: 0.5452 - val_loss: 1.2976 - val_acc: 0.5428\n",
      "Epoch 27/100\n",
      "50000/50000 [==============================] - 4s 71us/step - loss: 1.2824 - acc: 0.5442 - val_loss: 1.3057 - val_acc: 0.5351\n",
      "Epoch 28/100\n",
      "50000/50000 [==============================] - 4s 70us/step - loss: 1.2716 - acc: 0.5509 - val_loss: 1.2871 - val_acc: 0.5372\n",
      "Epoch 29/100\n",
      "50000/50000 [==============================] - 3s 69us/step - loss: 1.2681 - acc: 0.5530 - val_loss: 1.2899 - val_acc: 0.5375\n",
      "Epoch 30/100\n",
      "50000/50000 [==============================] - 3s 70us/step - loss: 1.2656 - acc: 0.5534 - val_loss: 1.2901 - val_acc: 0.5390\n",
      "Epoch 31/100\n",
      "50000/50000 [==============================] - 4s 71us/step - loss: 1.2575 - acc: 0.5540 - val_loss: 1.2819 - val_acc: 0.5456\n",
      "Epoch 32/100\n",
      "50000/50000 [==============================] - 3s 69us/step - loss: 1.2514 - acc: 0.5555 - val_loss: 1.2691 - val_acc: 0.5476\n",
      "Epoch 33/100\n",
      "50000/50000 [==============================] - 3s 70us/step - loss: 1.2486 - acc: 0.5593 - val_loss: 1.2971 - val_acc: 0.5391\n",
      "Epoch 34/100\n",
      "50000/50000 [==============================] - 4s 70us/step - loss: 1.2427 - acc: 0.5608 - val_loss: 1.2603 - val_acc: 0.5524\n",
      "Epoch 35/100\n",
      "50000/50000 [==============================] - 3s 69us/step - loss: 1.2384 - acc: 0.5626 - val_loss: 1.2618 - val_acc: 0.5483\n",
      "Epoch 36/100\n",
      "50000/50000 [==============================] - 4s 71us/step - loss: 1.2334 - acc: 0.5633 - val_loss: 1.2690 - val_acc: 0.5451\n",
      "Epoch 37/100\n",
      "50000/50000 [==============================] - 3s 70us/step - loss: 1.2309 - acc: 0.5652 - val_loss: 1.2713 - val_acc: 0.5534\n",
      "Epoch 38/100\n",
      "50000/50000 [==============================] - 4s 70us/step - loss: 1.2285 - acc: 0.5675 - val_loss: 1.2627 - val_acc: 0.5544\n",
      "Epoch 39/100\n",
      "50000/50000 [==============================] - 3s 69us/step - loss: 1.2228 - acc: 0.5670 - val_loss: 1.2734 - val_acc: 0.5477\n",
      "Epoch 40/100\n",
      "50000/50000 [==============================] - 4s 71us/step - loss: 1.2189 - acc: 0.5708 - val_loss: 1.2417 - val_acc: 0.5581\n",
      "Epoch 41/100\n",
      "50000/50000 [==============================] - 4s 71us/step - loss: 1.2161 - acc: 0.5694 - val_loss: 1.2593 - val_acc: 0.5557\n",
      "Epoch 42/100\n",
      "50000/50000 [==============================] - 4s 71us/step - loss: 1.2093 - acc: 0.5722 - val_loss: 1.2494 - val_acc: 0.5584\n",
      "Epoch 43/100\n",
      "50000/50000 [==============================] - 3s 70us/step - loss: 1.2152 - acc: 0.5723 - val_loss: 1.2308 - val_acc: 0.5623\n",
      "Epoch 44/100\n",
      "50000/50000 [==============================] - 4s 71us/step - loss: 1.2063 - acc: 0.5740 - val_loss: 1.2294 - val_acc: 0.5622\n",
      "Epoch 45/100\n",
      "50000/50000 [==============================] - 3s 68us/step - loss: 1.2012 - acc: 0.5765 - val_loss: 1.2369 - val_acc: 0.5595\n",
      "Epoch 46/100\n",
      "50000/50000 [==============================] - 4s 72us/step - loss: 1.1973 - acc: 0.5777 - val_loss: 1.2259 - val_acc: 0.5622\n",
      "Epoch 47/100\n",
      "50000/50000 [==============================] - 3s 69us/step - loss: 1.1955 - acc: 0.5798 - val_loss: 1.2157 - val_acc: 0.5721\n",
      "Epoch 48/100\n",
      "50000/50000 [==============================] - 4s 71us/step - loss: 1.1916 - acc: 0.5793 - val_loss: 1.2215 - val_acc: 0.5740\n",
      "Epoch 49/100\n",
      "50000/50000 [==============================] - 3s 68us/step - loss: 1.1893 - acc: 0.5796 - val_loss: 1.2060 - val_acc: 0.5685\n",
      "Epoch 50/100\n",
      "50000/50000 [==============================] - 3s 69us/step - loss: 1.1832 - acc: 0.5824 - val_loss: 1.2128 - val_acc: 0.5716\n",
      "Epoch 51/100\n",
      "50000/50000 [==============================] - 3s 69us/step - loss: 1.1839 - acc: 0.5834 - val_loss: 1.2118 - val_acc: 0.5696\n",
      "Epoch 52/100\n",
      "50000/50000 [==============================] - 3s 69us/step - loss: 1.1777 - acc: 0.5853 - val_loss: 1.2020 - val_acc: 0.5705\n",
      "Epoch 53/100\n",
      "50000/50000 [==============================] - 3s 70us/step - loss: 1.1742 - acc: 0.5868 - val_loss: 1.2042 - val_acc: 0.5797\n",
      "Epoch 54/100\n",
      "50000/50000 [==============================] - 3s 70us/step - loss: 1.1706 - acc: 0.5851 - val_loss: 1.2114 - val_acc: 0.5742\n",
      "Epoch 55/100\n",
      "50000/50000 [==============================] - 3s 68us/step - loss: 1.1714 - acc: 0.5889 - val_loss: 1.2022 - val_acc: 0.5753\n",
      "Epoch 56/100\n",
      "50000/50000 [==============================] - 3s 68us/step - loss: 1.1660 - acc: 0.5863 - val_loss: 1.2257 - val_acc: 0.5715\n",
      "Epoch 57/100\n",
      "50000/50000 [==============================] - 3s 69us/step - loss: 1.1650 - acc: 0.5893 - val_loss: 1.1894 - val_acc: 0.5758\n",
      "Epoch 58/100\n",
      "50000/50000 [==============================] - 4s 71us/step - loss: 1.1627 - acc: 0.5923 - val_loss: 1.1799 - val_acc: 0.5836\n",
      "Epoch 59/100\n"
     ]
    },
    {
     "name": "stdout",
     "output_type": "stream",
     "text": [
      "50000/50000 [==============================] - 4s 71us/step - loss: 1.1594 - acc: 0.5902 - val_loss: 1.1837 - val_acc: 0.5777\n",
      "Epoch 60/100\n",
      "50000/50000 [==============================] - 3s 68us/step - loss: 1.1560 - acc: 0.5944 - val_loss: 1.1930 - val_acc: 0.5809\n",
      "Epoch 61/100\n",
      "50000/50000 [==============================] - 3s 69us/step - loss: 1.1493 - acc: 0.5939 - val_loss: 1.2296 - val_acc: 0.5632\n",
      "Epoch 62/100\n",
      "50000/50000 [==============================] - 4s 71us/step - loss: 1.1498 - acc: 0.5937 - val_loss: 1.1835 - val_acc: 0.5834\n",
      "Epoch 63/100\n",
      "50000/50000 [==============================] - 3s 70us/step - loss: 1.1483 - acc: 0.5948 - val_loss: 1.1850 - val_acc: 0.5790\n",
      "Epoch 64/100\n",
      "50000/50000 [==============================] - 4s 71us/step - loss: 1.1459 - acc: 0.5957 - val_loss: 1.1717 - val_acc: 0.5811\n",
      "Epoch 65/100\n",
      "50000/50000 [==============================] - 4s 71us/step - loss: 1.1413 - acc: 0.5996 - val_loss: 1.1904 - val_acc: 0.5814\n",
      "Epoch 66/100\n",
      "50000/50000 [==============================] - 4s 71us/step - loss: 1.1420 - acc: 0.5974 - val_loss: 1.1552 - val_acc: 0.5892\n",
      "Epoch 67/100\n",
      "50000/50000 [==============================] - 4s 73us/step - loss: 1.1408 - acc: 0.5985 - val_loss: 1.1700 - val_acc: 0.5859\n",
      "Epoch 68/100\n",
      "50000/50000 [==============================] - 4s 73us/step - loss: 1.1383 - acc: 0.5957 - val_loss: 1.2319 - val_acc: 0.5632\n",
      "Epoch 69/100\n",
      "50000/50000 [==============================] - 4s 72us/step - loss: 1.1341 - acc: 0.5994 - val_loss: 1.1558 - val_acc: 0.5927\n",
      "Epoch 70/100\n",
      "50000/50000 [==============================] - 3s 70us/step - loss: 1.1337 - acc: 0.5983 - val_loss: 1.1586 - val_acc: 0.5983\n",
      "Epoch 71/100\n",
      "50000/50000 [==============================] - 3s 67us/step - loss: 1.1295 - acc: 0.6018 - val_loss: 1.1613 - val_acc: 0.5903\n",
      "Epoch 72/100\n",
      "50000/50000 [==============================] - 3s 69us/step - loss: 1.1263 - acc: 0.6027 - val_loss: 1.2330 - val_acc: 0.5695\n",
      "Epoch 73/100\n",
      "50000/50000 [==============================] - 4s 72us/step - loss: 1.1268 - acc: 0.6039 - val_loss: 1.1589 - val_acc: 0.5894\n",
      "Epoch 74/100\n",
      "50000/50000 [==============================] - 4s 73us/step - loss: 1.1264 - acc: 0.6035 - val_loss: 1.1745 - val_acc: 0.5859\n",
      "Epoch 75/100\n",
      "50000/50000 [==============================] - 3s 70us/step - loss: 1.1228 - acc: 0.6032 - val_loss: 1.1589 - val_acc: 0.5908\n",
      "Epoch 76/100\n",
      "50000/50000 [==============================] - 4s 71us/step - loss: 1.1229 - acc: 0.6065 - val_loss: 1.1563 - val_acc: 0.5925\n",
      "Epoch 77/100\n",
      "50000/50000 [==============================] - 3s 70us/step - loss: 1.1189 - acc: 0.6043 - val_loss: 1.1627 - val_acc: 0.5824\n",
      "Epoch 78/100\n",
      "50000/50000 [==============================] - 3s 68us/step - loss: 1.1173 - acc: 0.6082 - val_loss: 1.1418 - val_acc: 0.6024\n",
      "Epoch 79/100\n",
      "50000/50000 [==============================] - 4s 70us/step - loss: 1.1159 - acc: 0.6061 - val_loss: 1.1488 - val_acc: 0.5966\n",
      "Epoch 80/100\n",
      "50000/50000 [==============================] - 3s 69us/step - loss: 1.1165 - acc: 0.6062 - val_loss: 1.1740 - val_acc: 0.5834\n",
      "Epoch 81/100\n",
      "50000/50000 [==============================] - 3s 70us/step - loss: 1.1149 - acc: 0.6058 - val_loss: 1.1551 - val_acc: 0.5938\n",
      "Epoch 82/100\n",
      "50000/50000 [==============================] - 4s 71us/step - loss: 1.1130 - acc: 0.6068 - val_loss: 1.1615 - val_acc: 0.5922\n",
      "Epoch 83/100\n",
      "50000/50000 [==============================] - 3s 67us/step - loss: 1.1089 - acc: 0.6086 - val_loss: 1.1850 - val_acc: 0.5836\n",
      "Epoch 84/100\n",
      "50000/50000 [==============================] - 3s 68us/step - loss: 1.1084 - acc: 0.6100 - val_loss: 1.1625 - val_acc: 0.5937\n",
      "Epoch 85/100\n",
      "50000/50000 [==============================] - 4s 71us/step - loss: 1.1051 - acc: 0.6106 - val_loss: 1.1410 - val_acc: 0.5962\n",
      "Epoch 86/100\n",
      "50000/50000 [==============================] - 3s 68us/step - loss: 1.1038 - acc: 0.6101 - val_loss: 1.1385 - val_acc: 0.6000\n",
      "Epoch 87/100\n",
      "50000/50000 [==============================] - 4s 72us/step - loss: 1.1064 - acc: 0.6089 - val_loss: 1.1305 - val_acc: 0.5969\n",
      "Epoch 88/100\n",
      "50000/50000 [==============================] - 3s 67us/step - loss: 1.1015 - acc: 0.6129 - val_loss: 1.1843 - val_acc: 0.5826\n",
      "Epoch 89/100\n",
      "50000/50000 [==============================] - 3s 69us/step - loss: 1.1051 - acc: 0.6077 - val_loss: 1.1566 - val_acc: 0.5913\n",
      "Epoch 90/100\n",
      "50000/50000 [==============================] - 3s 67us/step - loss: 1.0970 - acc: 0.6148 - val_loss: 1.1378 - val_acc: 0.5979\n",
      "Epoch 91/100\n",
      "50000/50000 [==============================] - 3s 66us/step - loss: 1.0968 - acc: 0.6128 - val_loss: 1.1350 - val_acc: 0.5988\n",
      "Epoch 92/100\n",
      "50000/50000 [==============================] - 3s 67us/step - loss: 1.0942 - acc: 0.6128 - val_loss: 1.1419 - val_acc: 0.5919\n",
      "Epoch 93/100\n",
      "50000/50000 [==============================] - 3s 67us/step - loss: 1.0939 - acc: 0.6139 - val_loss: 1.1261 - val_acc: 0.6033\n",
      "Epoch 94/100\n",
      "50000/50000 [==============================] - 3s 67us/step - loss: 1.0937 - acc: 0.6142 - val_loss: 1.1251 - val_acc: 0.6037\n",
      "Epoch 95/100\n",
      "50000/50000 [==============================] - 3s 69us/step - loss: 1.0930 - acc: 0.6173 - val_loss: 1.1239 - val_acc: 0.6086\n",
      "Epoch 96/100\n",
      "50000/50000 [==============================] - 3s 68us/step - loss: 1.0917 - acc: 0.6155 - val_loss: 1.1493 - val_acc: 0.5978\n",
      "Epoch 97/100\n",
      "50000/50000 [==============================] - 3s 69us/step - loss: 1.0984 - acc: 0.6129 - val_loss: 1.1269 - val_acc: 0.6063\n",
      "Epoch 98/100\n",
      "50000/50000 [==============================] - 4s 71us/step - loss: 1.0912 - acc: 0.6191 - val_loss: 1.1102 - val_acc: 0.6097\n",
      "Epoch 99/100\n",
      "50000/50000 [==============================] - 3s 68us/step - loss: 1.0924 - acc: 0.6143 - val_loss: 1.1192 - val_acc: 0.6057\n",
      "Epoch 100/100\n",
      "50000/50000 [==============================] - 3s 66us/step - loss: 1.0917 - acc: 0.6165 - val_loss: 1.1234 - val_acc: 0.6033\n"
     ]
    }
   ],
   "source": [
    "log = model.fit(X_train, y_train, validation_data=(X_test, y_test), epochs=100, batch_size=256)"
   ]
  },
  {
   "cell_type": "code",
   "execution_count": 33,
   "metadata": {},
   "outputs": [
    {
     "data": {
      "text/plain": [
       "<matplotlib.legend.Legend at 0x7f5a502fa668>"
      ]
     },
     "execution_count": 33,
     "metadata": {},
     "output_type": "execute_result"
    },
    {
     "data": {
      "image/png": "[encoded data removed]",
      "text/plain": [
       "<Figure size 432x288 with 1 Axes>"
      ]
     },
     "metadata": {},
     "output_type": "display_data"
    }
   ],
   "source": [
    "plt.plot(log.history['loss'], label='train_set')\n",
    "plt.plot(log.history['val_loss'], label='test_set')\n",
    "plt.legend()"
   ]
  },
  {
   "cell_type": "code",
   "execution_count": 36,
   "metadata": {},
   "outputs": [
    {
     "data": {
      "text/plain": [
       "[<matplotlib.lines.Line2D at 0x7f5a502cc3c8>]"
      ]
     },
     "execution_count": 36,
     "metadata": {},
     "output_type": "execute_result"
    },
    {
     "data": {
      "image/png": "[encoded data removed]",
      "text/plain": [
       "<Figure size 432x288 with 1 Axes>"
      ]
     },
     "metadata": {},
     "output_type": "display_data"
    }
   ],
   "source": [
    "plt.plot(log.history['acc'], label='train_set')\n",
    "plt.plot(log.history['val_acc'], label='test_set')"
   ]
  }
 ],
 "metadata": {
  "kernelspec": {
   "display_name": "Python 3",
   "language": "python",
   "name": "python3"
  },
  "language_info": {
   "codemirror_mode": {
    "name": "ipython",
    "version": 3
   },
   "file_extension": ".py",
   "mimetype": "text/x-python",
   "name": "python",
   "nbconvert_exporter": "python",
   "pygments_lexer": "ipython3",
   "version": "3.5.5"
  }
 },
 "nbformat": 4,
 "nbformat_minor": 2
}
