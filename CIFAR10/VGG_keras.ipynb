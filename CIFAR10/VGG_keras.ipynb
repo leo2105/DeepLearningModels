{
 "cells": [
  {
   "cell_type": "code",
   "execution_count": 5,
   "metadata": {},
   "outputs": [],
   "source": [
    "# kind of VGG"
   ]
  },
  {
   "cell_type": "code",
   "execution_count": 1,
   "metadata": {},
   "outputs": [
    {
     "name": "stderr",
     "output_type": "stream",
     "text": [
      "Using TensorFlow backend.\n"
     ]
    }
   ],
   "source": [
    "import numpy as np\n",
    "import matplotlib.pyplot as plt\n",
    "from keras.datasets import cifar10\n",
    "from keras.models import Sequential\n",
    "from keras.layers import Dense, Conv2D, MaxPool2D, Flatten, Input\n",
    "from keras.optimizers import SGD, Adam\n",
    "from keras.utils import to_categorical\n",
    "import keras.backend as K\n",
    "from keras.layers import Lambda, BatchNormalization, Dropout\n",
    "%matplotlib inline"
   ]
  },
  {
   "cell_type": "code",
   "execution_count": 2,
   "metadata": {},
   "outputs": [],
   "source": [
    "(X_train, y_train), (X_test, y_test) = cifar10.load_data()\n",
    "X_train = (X_train - 127.5) / 127.5\n",
    "X_test = (X_test - 127.5) / 127.5\n",
    "y_train = to_categorical(y_train, num_classes=10)\n",
    "y_test = to_categorical(y_test, num_classes=10)"
   ]
  },
  {
   "cell_type": "code",
   "execution_count": 3,
   "metadata": {},
   "outputs": [
    {
     "name": "stdout",
     "output_type": "stream",
     "text": [
      "_________________________________________________________________\n",
      "Layer (type)                 Output Shape              Param #   \n",
      "=================================================================\n",
      "conv2d_1 (Conv2D)            (None, 32, 32, 64)        1792      \n",
      "_________________________________________________________________\n",
      "conv2d_2 (Conv2D)            (None, 32, 32, 64)        36928     \n",
      "_________________________________________________________________\n",
      "max_pooling2d_1 (MaxPooling2 (None, 16, 16, 64)        0         \n",
      "_________________________________________________________________\n",
      "conv2d_3 (Conv2D)            (None, 16, 16, 128)       73856     \n",
      "_________________________________________________________________\n",
      "conv2d_4 (Conv2D)            (None, 16, 16, 128)       147584    \n",
      "_________________________________________________________________\n",
      "max_pooling2d_2 (MaxPooling2 (None, 8, 8, 128)         0         \n",
      "_________________________________________________________________\n",
      "conv2d_5 (Conv2D)            (None, 8, 8, 256)         295168    \n",
      "_________________________________________________________________\n",
      "conv2d_6 (Conv2D)            (None, 8, 8, 256)         590080    \n",
      "_________________________________________________________________\n",
      "conv2d_7 (Conv2D)            (None, 8, 8, 256)         590080    \n",
      "_________________________________________________________________\n",
      "max_pooling2d_3 (MaxPooling2 (None, 4, 4, 256)         0         \n",
      "_________________________________________________________________\n",
      "conv2d_8 (Conv2D)            (None, 4, 4, 512)         1180160   \n",
      "_________________________________________________________________\n",
      "conv2d_9 (Conv2D)            (None, 4, 4, 512)         2359808   \n",
      "_________________________________________________________________\n",
      "conv2d_10 (Conv2D)           (None, 4, 4, 512)         2359808   \n",
      "_________________________________________________________________\n",
      "max_pooling2d_4 (MaxPooling2 (None, 2, 2, 512)         0         \n",
      "_________________________________________________________________\n",
      "flatten_1 (Flatten)          (None, 2048)              0         \n",
      "_________________________________________________________________\n",
      "dense_1 (Dense)              (None, 64)                131136    \n",
      "_________________________________________________________________\n",
      "dense_2 (Dense)              (None, 32)                2080      \n",
      "_________________________________________________________________\n",
      "dense_3 (Dense)              (None, 10)                330       \n",
      "=================================================================\n",
      "Total params: 7,768,810\n",
      "Trainable params: 7,768,810\n",
      "Non-trainable params: 0\n",
      "_________________________________________________________________\n"
     ]
    }
   ],
   "source": [
    "model = Sequential()\n",
    "\n",
    "#model.add(Input(shape=(32, 32,3)))\n",
    "model.add(Conv2D(64, (3, 3), padding='same', activation='relu', input_shape=(32,32,3)))\n",
    "model.add(Conv2D(64, (3, 3), padding='same', activation='relu'))\n",
    "model.add(MaxPool2D((2, 2)))\n",
    "\n",
    "model.add(Conv2D(128, (3, 3), padding='same', activation='relu'))\n",
    "model.add(Conv2D(128, (3, 3), padding='same', activation='relu'))\n",
    "model.add(MaxPool2D((2, 2)))\n",
    "\n",
    "model.add(Conv2D(256, (3, 3), padding='same', activation='relu'))\n",
    "model.add(Conv2D(256, (3, 3), padding='same', activation='relu'))\n",
    "model.add(Conv2D(256, (3, 3), padding='same', activation='relu'))\n",
    "model.add(MaxPool2D((2, 2)))\n",
    "\n",
    "model.add(Conv2D(512, (3, 3), padding='same', activation='relu'))\n",
    "model.add(Conv2D(512, (3, 3), padding='same', activation='relu'))\n",
    "model.add(Conv2D(512, (3, 3), padding='same', activation='relu'))\n",
    "model.add(MaxPool2D((2, 2)))\n",
    "\n",
    "\n",
    "model.add(Flatten())\n",
    "\n",
    "model.add(Dense(64))\n",
    "model.add(Dense(32))\n",
    "model.add(Dense(10, activation='softmax'))\n",
    "\n",
    "model.compile(loss='categorical_crossentropy',\n",
    "              optimizer=Adam(),\n",
    "              metrics=['accuracy']              \n",
    "             )\n",
    "\n",
    "model.summary()"
   ]
  },
  {
   "cell_type": "code",
   "execution_count": 4,
   "metadata": {
    "scrolled": true
   },
   "outputs": [
    {
     "name": "stdout",
     "output_type": "stream",
     "text": [
      "Train on 50000 samples, validate on 10000 samples\n",
      "Epoch 1/100\n",
      "50000/50000 [==============================] - 20s 393us/step - loss: 2.3043 - acc: 0.1002 - val_loss: 2.3031 - val_acc: 0.1000\n",
      "Epoch 2/100\n",
      "50000/50000 [==============================] - 15s 301us/step - loss: 1.9286 - acc: 0.2463 - val_loss: 1.5873 - val_acc: 0.3963\n",
      "Epoch 3/100\n",
      "50000/50000 [==============================] - 15s 301us/step - loss: 1.3912 - acc: 0.4782 - val_loss: 1.2581 - val_acc: 0.5457\n",
      "Epoch 4/100\n",
      "50000/50000 [==============================] - 15s 300us/step - loss: 1.0913 - acc: 0.6019 - val_loss: 1.0925 - val_acc: 0.6045\n",
      "Epoch 5/100\n",
      "50000/50000 [==============================] - 15s 301us/step - loss: 0.9035 - acc: 0.6770 - val_loss: 0.8954 - val_acc: 0.6866\n",
      "Epoch 6/100\n",
      "50000/50000 [==============================] - 15s 300us/step - loss: 0.7638 - acc: 0.7279 - val_loss: 0.8437 - val_acc: 0.7132\n",
      "Epoch 7/100\n",
      "50000/50000 [==============================] - 15s 301us/step - loss: 0.6411 - acc: 0.7729 - val_loss: 0.7645 - val_acc: 0.7389\n",
      "Epoch 8/100\n",
      "50000/50000 [==============================] - 15s 300us/step - loss: 0.5471 - acc: 0.8088 - val_loss: 0.7065 - val_acc: 0.7655\n",
      "Epoch 9/100\n",
      "50000/50000 [==============================] - 15s 296us/step - loss: 0.4679 - acc: 0.8361 - val_loss: 0.6948 - val_acc: 0.7714\n",
      "Epoch 10/100\n",
      "50000/50000 [==============================] - 15s 299us/step - loss: 0.3946 - acc: 0.8600 - val_loss: 0.7198 - val_acc: 0.7713\n",
      "Epoch 11/100\n",
      "50000/50000 [==============================] - 15s 299us/step - loss: 0.3254 - acc: 0.8859 - val_loss: 0.8232 - val_acc: 0.7610\n",
      "Epoch 12/100\n",
      "50000/50000 [==============================] - 15s 299us/step - loss: 0.2757 - acc: 0.9026 - val_loss: 0.8240 - val_acc: 0.7700\n",
      "Epoch 13/100\n",
      "50000/50000 [==============================] - 15s 300us/step - loss: 0.2337 - acc: 0.9176 - val_loss: 0.8586 - val_acc: 0.7681\n",
      "Epoch 14/100\n",
      "50000/50000 [==============================] - 15s 301us/step - loss: 0.1964 - acc: 0.9299 - val_loss: 0.8603 - val_acc: 0.7716\n",
      "Epoch 15/100\n",
      "50000/50000 [==============================] - 15s 299us/step - loss: 0.1620 - acc: 0.9431 - val_loss: 1.0257 - val_acc: 0.7577\n",
      "Epoch 16/100\n",
      "50000/50000 [==============================] - 15s 298us/step - loss: 0.1457 - acc: 0.9490 - val_loss: 0.9953 - val_acc: 0.7661\n",
      "Epoch 17/100\n",
      "50000/50000 [==============================] - 15s 298us/step - loss: 0.1246 - acc: 0.9580 - val_loss: 1.0586 - val_acc: 0.7630\n",
      "Epoch 18/100\n",
      "50000/50000 [==============================] - 15s 300us/step - loss: 0.1156 - acc: 0.9598 - val_loss: 1.0480 - val_acc: 0.7631\n",
      "Epoch 19/100\n",
      "50000/50000 [==============================] - 15s 298us/step - loss: 0.0938 - acc: 0.9673 - val_loss: 1.0979 - val_acc: 0.7693\n",
      "Epoch 20/100\n",
      "50000/50000 [==============================] - 15s 300us/step - loss: 0.1047 - acc: 0.9640 - val_loss: 1.1894 - val_acc: 0.7667\n",
      "Epoch 21/100\n",
      "50000/50000 [==============================] - 15s 299us/step - loss: 0.0888 - acc: 0.9704 - val_loss: 1.1538 - val_acc: 0.7737\n",
      "Epoch 22/100\n",
      "50000/50000 [==============================] - 15s 300us/step - loss: 0.0806 - acc: 0.9720 - val_loss: 1.2071 - val_acc: 0.7762\n",
      "Epoch 23/100\n",
      "50000/50000 [==============================] - 15s 301us/step - loss: 0.0838 - acc: 0.9723 - val_loss: 1.1773 - val_acc: 0.7703\n",
      "Epoch 24/100\n",
      "50000/50000 [==============================] - 15s 299us/step - loss: 0.0723 - acc: 0.9757 - val_loss: 1.1923 - val_acc: 0.7726\n",
      "Epoch 25/100\n",
      "50000/50000 [==============================] - 15s 298us/step - loss: 0.0645 - acc: 0.9790 - val_loss: 1.2770 - val_acc: 0.7690\n",
      "Epoch 26/100\n",
      "50000/50000 [==============================] - 15s 300us/step - loss: 0.0644 - acc: 0.9782 - val_loss: 1.3294 - val_acc: 0.7674\n",
      "Epoch 27/100\n",
      "50000/50000 [==============================] - 15s 299us/step - loss: 0.0659 - acc: 0.9784 - val_loss: 1.3117 - val_acc: 0.7695\n",
      "Epoch 28/100\n",
      "50000/50000 [==============================] - 15s 299us/step - loss: 0.0705 - acc: 0.9768 - val_loss: 1.3006 - val_acc: 0.7752\n",
      "Epoch 29/100\n",
      "50000/50000 [==============================] - 15s 300us/step - loss: 0.0607 - acc: 0.9807 - val_loss: 1.2237 - val_acc: 0.7769\n",
      "Epoch 30/100\n",
      "50000/50000 [==============================] - 15s 301us/step - loss: 0.0625 - acc: 0.9796 - val_loss: 1.2516 - val_acc: 0.7775\n",
      "Epoch 31/100\n",
      "50000/50000 [==============================] - 15s 300us/step - loss: 0.0507 - acc: 0.9835 - val_loss: 1.2828 - val_acc: 0.7664\n",
      "Epoch 32/100\n",
      "50000/50000 [==============================] - 15s 299us/step - loss: 0.0547 - acc: 0.9818 - val_loss: 1.3830 - val_acc: 0.7639\n",
      "Epoch 33/100\n",
      "50000/50000 [==============================] - 15s 300us/step - loss: 0.0602 - acc: 0.9804 - val_loss: 1.3414 - val_acc: 0.7664\n",
      "Epoch 34/100\n",
      "50000/50000 [==============================] - 15s 300us/step - loss: 0.0548 - acc: 0.9818 - val_loss: 1.3035 - val_acc: 0.7705\n",
      "Epoch 35/100\n",
      "50000/50000 [==============================] - 15s 299us/step - loss: 0.0599 - acc: 0.9802 - val_loss: 1.3604 - val_acc: 0.7687\n",
      "Epoch 36/100\n",
      "50000/50000 [==============================] - 15s 300us/step - loss: 0.0545 - acc: 0.9826 - val_loss: 1.3429 - val_acc: 0.7744\n",
      "Epoch 37/100\n",
      "50000/50000 [==============================] - 15s 299us/step - loss: 0.0483 - acc: 0.9847 - val_loss: 1.3260 - val_acc: 0.7728\n",
      "Epoch 38/100\n",
      "50000/50000 [==============================] - 15s 300us/step - loss: 0.0618 - acc: 0.9809 - val_loss: 1.1297 - val_acc: 0.7769\n",
      "Epoch 39/100\n",
      "50000/50000 [==============================] - 15s 301us/step - loss: 0.0471 - acc: 0.9845 - val_loss: 1.2516 - val_acc: 0.7754\n",
      "Epoch 40/100\n",
      "50000/50000 [==============================] - 15s 301us/step - loss: 0.0478 - acc: 0.9843 - val_loss: 1.3760 - val_acc: 0.7754\n",
      "Epoch 41/100\n",
      "50000/50000 [==============================] - 15s 300us/step - loss: 0.0492 - acc: 0.9845 - val_loss: 1.2428 - val_acc: 0.7746\n",
      "Epoch 42/100\n",
      "50000/50000 [==============================] - 15s 299us/step - loss: 0.0460 - acc: 0.9850 - val_loss: 1.2454 - val_acc: 0.7718\n",
      "Epoch 43/100\n",
      "50000/50000 [==============================] - 15s 299us/step - loss: 0.0566 - acc: 0.9823 - val_loss: 1.2234 - val_acc: 0.7698\n",
      "Epoch 44/100\n",
      "50000/50000 [==============================] - 15s 300us/step - loss: 0.0472 - acc: 0.9854 - val_loss: 1.3210 - val_acc: 0.7718\n",
      "Epoch 45/100\n",
      "50000/50000 [==============================] - 15s 300us/step - loss: 0.0513 - acc: 0.9840 - val_loss: 1.2343 - val_acc: 0.7781\n",
      "Epoch 46/100\n",
      "50000/50000 [==============================] - 15s 300us/step - loss: 0.0426 - acc: 0.9864 - val_loss: 1.3271 - val_acc: 0.7767\n",
      "Epoch 47/100\n",
      "50000/50000 [==============================] - 15s 300us/step - loss: 0.0449 - acc: 0.9855 - val_loss: 1.3421 - val_acc: 0.7724\n",
      "Epoch 48/100\n",
      "50000/50000 [==============================] - 15s 299us/step - loss: 0.0414 - acc: 0.9871 - val_loss: 1.2984 - val_acc: 0.7737\n",
      "Epoch 49/100\n",
      "50000/50000 [==============================] - 15s 298us/step - loss: 0.0461 - acc: 0.9858 - val_loss: 1.2931 - val_acc: 0.7718\n",
      "Epoch 50/100\n",
      "50000/50000 [==============================] - 15s 299us/step - loss: 0.0465 - acc: 0.9855 - val_loss: 1.3300 - val_acc: 0.7743\n",
      "Epoch 51/100\n",
      "50000/50000 [==============================] - 15s 299us/step - loss: 0.0454 - acc: 0.9854 - val_loss: 1.3813 - val_acc: 0.7721\n",
      "Epoch 52/100\n",
      "50000/50000 [==============================] - 15s 298us/step - loss: 0.0496 - acc: 0.9841 - val_loss: 1.2126 - val_acc: 0.7720\n",
      "Epoch 53/100\n",
      "50000/50000 [==============================] - 15s 300us/step - loss: 0.0349 - acc: 0.9894 - val_loss: 1.4139 - val_acc: 0.7692\n",
      "Epoch 54/100\n",
      "50000/50000 [==============================] - 15s 300us/step - loss: 0.0505 - acc: 0.9845 - val_loss: 1.2017 - val_acc: 0.7741\n",
      "Epoch 55/100\n",
      "50000/50000 [==============================] - 15s 299us/step - loss: 0.0378 - acc: 0.9887 - val_loss: 1.3565 - val_acc: 0.7689\n",
      "Epoch 56/100\n",
      "50000/50000 [==============================] - 15s 300us/step - loss: 0.0416 - acc: 0.9874 - val_loss: 1.2712 - val_acc: 0.7738\n",
      "Epoch 57/100\n",
      "50000/50000 [==============================] - 15s 300us/step - loss: 0.0383 - acc: 0.9874 - val_loss: 1.3133 - val_acc: 0.7828\n",
      "Epoch 58/100\n",
      "50000/50000 [==============================] - 15s 300us/step - loss: 0.0421 - acc: 0.9865 - val_loss: 1.3475 - val_acc: 0.7786\n"
     ]
    },
    {
     "name": "stdout",
     "output_type": "stream",
     "text": [
      "Epoch 59/100\n",
      "50000/50000 [==============================] - 15s 302us/step - loss: 0.0379 - acc: 0.9885 - val_loss: 1.2993 - val_acc: 0.7786\n",
      "Epoch 60/100\n",
      "50000/50000 [==============================] - 15s 301us/step - loss: 0.0313 - acc: 0.9902 - val_loss: 1.3556 - val_acc: 0.7795\n",
      "Epoch 61/100\n",
      "50000/50000 [==============================] - 15s 301us/step - loss: 0.0424 - acc: 0.9871 - val_loss: 1.3477 - val_acc: 0.7731\n",
      "Epoch 62/100\n",
      "50000/50000 [==============================] - 15s 301us/step - loss: 0.0317 - acc: 0.9899 - val_loss: 1.3803 - val_acc: 0.7795\n",
      "Epoch 63/100\n",
      "50000/50000 [==============================] - 15s 301us/step - loss: 0.0384 - acc: 0.9883 - val_loss: 1.4230 - val_acc: 0.7741\n",
      "Epoch 64/100\n",
      "50000/50000 [==============================] - 15s 298us/step - loss: 0.0386 - acc: 0.9873 - val_loss: 1.2974 - val_acc: 0.7772\n",
      "Epoch 65/100\n",
      "50000/50000 [==============================] - 15s 299us/step - loss: 0.0451 - acc: 0.9859 - val_loss: 1.3385 - val_acc: 0.7782\n",
      "Epoch 66/100\n",
      "50000/50000 [==============================] - 15s 300us/step - loss: 0.0396 - acc: 0.9872 - val_loss: 1.2585 - val_acc: 0.7856\n",
      "Epoch 67/100\n",
      "50000/50000 [==============================] - 15s 300us/step - loss: 0.0330 - acc: 0.9899 - val_loss: 1.3634 - val_acc: 0.7780\n",
      "Epoch 68/100\n",
      "50000/50000 [==============================] - 15s 300us/step - loss: 0.0290 - acc: 0.9910 - val_loss: 1.4344 - val_acc: 0.7794\n",
      "Epoch 69/100\n",
      "50000/50000 [==============================] - 15s 300us/step - loss: 0.0343 - acc: 0.9898 - val_loss: 1.4144 - val_acc: 0.7781\n",
      "Epoch 70/100\n",
      "50000/50000 [==============================] - 15s 301us/step - loss: 0.0419 - acc: 0.9876 - val_loss: 1.3310 - val_acc: 0.7801\n",
      "Epoch 71/100\n",
      "50000/50000 [==============================] - 15s 300us/step - loss: 0.0354 - acc: 0.9890 - val_loss: 1.4241 - val_acc: 0.7748\n",
      "Epoch 72/100\n",
      "50000/50000 [==============================] - 15s 301us/step - loss: 0.0332 - acc: 0.9898 - val_loss: 1.3794 - val_acc: 0.7761\n",
      "Epoch 73/100\n",
      "50000/50000 [==============================] - 15s 301us/step - loss: 0.0291 - acc: 0.9909 - val_loss: 1.4580 - val_acc: 0.7834\n",
      "Epoch 74/100\n",
      "50000/50000 [==============================] - 15s 301us/step - loss: 0.0306 - acc: 0.9910 - val_loss: 1.4483 - val_acc: 0.7703\n",
      "Epoch 75/100\n",
      "50000/50000 [==============================] - 15s 301us/step - loss: 0.0394 - acc: 0.9885 - val_loss: 1.4077 - val_acc: 0.7809\n",
      "Epoch 76/100\n",
      "50000/50000 [==============================] - 15s 300us/step - loss: 0.0318 - acc: 0.9905 - val_loss: 1.3582 - val_acc: 0.7835\n",
      "Epoch 77/100\n",
      "50000/50000 [==============================] - 15s 301us/step - loss: 0.0320 - acc: 0.9904 - val_loss: 1.2966 - val_acc: 0.7787\n",
      "Epoch 78/100\n",
      "50000/50000 [==============================] - 15s 300us/step - loss: 0.0360 - acc: 0.9892 - val_loss: 1.2819 - val_acc: 0.7742\n",
      "Epoch 79/100\n",
      "50000/50000 [==============================] - 15s 301us/step - loss: 0.0383 - acc: 0.9885 - val_loss: 1.3845 - val_acc: 0.7768\n",
      "Epoch 80/100\n",
      "50000/50000 [==============================] - 15s 301us/step - loss: 0.0381 - acc: 0.9891 - val_loss: 1.3803 - val_acc: 0.7824\n",
      "Epoch 81/100\n",
      "50000/50000 [==============================] - 15s 302us/step - loss: 0.0364 - acc: 0.9887 - val_loss: 1.4209 - val_acc: 0.7707\n",
      "Epoch 82/100\n",
      "50000/50000 [==============================] - 15s 303us/step - loss: 0.0337 - acc: 0.9900 - val_loss: 1.3571 - val_acc: 0.7809\n",
      "Epoch 83/100\n",
      "50000/50000 [==============================] - 15s 301us/step - loss: 0.0316 - acc: 0.9903 - val_loss: 1.4209 - val_acc: 0.7790\n",
      "Epoch 84/100\n",
      "50000/50000 [==============================] - 15s 299us/step - loss: 0.0306 - acc: 0.9911 - val_loss: 1.4147 - val_acc: 0.7787\n",
      "Epoch 85/100\n",
      "50000/50000 [==============================] - 15s 302us/step - loss: 0.0359 - acc: 0.9898 - val_loss: 1.4636 - val_acc: 0.7737\n",
      "Epoch 86/100\n",
      "50000/50000 [==============================] - 15s 301us/step - loss: 0.0355 - acc: 0.9890 - val_loss: 1.3592 - val_acc: 0.7823\n",
      "Epoch 87/100\n",
      "50000/50000 [==============================] - 15s 301us/step - loss: 0.0251 - acc: 0.9926 - val_loss: 1.4010 - val_acc: 0.7770\n",
      "Epoch 88/100\n",
      "50000/50000 [==============================] - 15s 301us/step - loss: 0.0345 - acc: 0.9895 - val_loss: 1.3839 - val_acc: 0.7745\n",
      "Epoch 89/100\n",
      "50000/50000 [==============================] - 15s 301us/step - loss: 0.0310 - acc: 0.9909 - val_loss: 1.4004 - val_acc: 0.7786\n",
      "Epoch 90/100\n",
      "50000/50000 [==============================] - 15s 300us/step - loss: 0.0327 - acc: 0.9906 - val_loss: 1.3396 - val_acc: 0.7798\n",
      "Epoch 91/100\n",
      "50000/50000 [==============================] - 15s 303us/step - loss: 0.0314 - acc: 0.9900 - val_loss: 1.3892 - val_acc: 0.7716\n",
      "Epoch 92/100\n",
      "50000/50000 [==============================] - 15s 301us/step - loss: 0.0294 - acc: 0.9913 - val_loss: 1.6094 - val_acc: 0.7763\n",
      "Epoch 93/100\n",
      "50000/50000 [==============================] - 15s 300us/step - loss: 0.0329 - acc: 0.9903 - val_loss: 1.3403 - val_acc: 0.7806\n",
      "Epoch 94/100\n",
      "50000/50000 [==============================] - 15s 300us/step - loss: 0.0264 - acc: 0.9917 - val_loss: 1.4103 - val_acc: 0.7807\n",
      "Epoch 95/100\n",
      "50000/50000 [==============================] - 15s 299us/step - loss: 0.0233 - acc: 0.9932 - val_loss: 1.3228 - val_acc: 0.7851\n",
      "Epoch 96/100\n",
      "50000/50000 [==============================] - 15s 302us/step - loss: 0.0286 - acc: 0.9910 - val_loss: 1.4981 - val_acc: 0.7710\n",
      "Epoch 97/100\n",
      "50000/50000 [==============================] - 15s 300us/step - loss: 0.0332 - acc: 0.9907 - val_loss: 1.4143 - val_acc: 0.7844\n",
      "Epoch 98/100\n",
      "50000/50000 [==============================] - 15s 301us/step - loss: 0.0309 - acc: 0.9915 - val_loss: 1.4056 - val_acc: 0.7764\n",
      "Epoch 99/100\n",
      "50000/50000 [==============================] - 15s 300us/step - loss: 0.0325 - acc: 0.9902 - val_loss: 1.4955 - val_acc: 0.7774\n",
      "Epoch 100/100\n",
      "50000/50000 [==============================] - 15s 301us/step - loss: 0.0312 - acc: 0.9909 - val_loss: 1.4548 - val_acc: 0.7866\n"
     ]
    }
   ],
   "source": [
    "log = model.fit(X_train, y_train, validation_data=(X_test, y_test), epochs=100, batch_size=256)"
   ]
  },
  {
   "cell_type": "code",
   "execution_count": 6,
   "metadata": {},
   "outputs": [
    {
     "data": {
      "text/plain": [
       "<matplotlib.legend.Legend at 0x7f44a978fe10>"
      ]
     },
     "execution_count": 6,
     "metadata": {},
     "output_type": "execute_result"
    },
    {
     "data": {
      "image/png": "[encoded data removed]",
      "text/plain": [
       "<Figure size 432x288 with 1 Axes>"
      ]
     },
     "metadata": {},
     "output_type": "display_data"
    }
   ],
   "source": [
    "plt.plot(log.history['loss'], label='train_set')\n",
    "plt.plot(log.history['val_loss'], label='test_set')\n",
    "plt.legend()"
   ]
  },
  {
   "cell_type": "code",
   "execution_count": 7,
   "metadata": {},
   "outputs": [
    {
     "data": {
      "text/plain": [
       "[<matplotlib.lines.Line2D at 0x7f44b00ac748>]"
      ]
     },
     "execution_count": 7,
     "metadata": {},
     "output_type": "execute_result"
    },
    {
     "data": {
      "image/png": "[encoded data removed]",
      "text/plain": [
       "<Figure size 432x288 with 1 Axes>"
      ]
     },
     "metadata": {},
     "output_type": "display_data"
    }
   ],
   "source": [
    "plt.plot(log.history['acc'], label='train_set')\n",
    "plt.plot(log.history['val_acc'], label='test_set')"
   ]
  },
  {
   "cell_type": "code",
   "execution_count": 8,
   "metadata": {},
   "outputs": [
    {
     "name": "stdout",
     "output_type": "stream",
     "text": [
      "50000/50000 [==============================] - 5s 104us/step\n"
     ]
    },
    {
     "data": {
      "text/plain": [
       "[0.012281040828227997, 0.99652]"
      ]
     },
     "execution_count": 8,
     "metadata": {},
     "output_type": "execute_result"
    }
   ],
   "source": [
    "model.evaluate(X_train, y_train, batch_size=256)"
   ]
  },
  {
   "cell_type": "code",
   "execution_count": 9,
   "metadata": {},
   "outputs": [
    {
     "name": "stdout",
     "output_type": "stream",
     "text": [
      "10000/10000 [==============================] - 1s 101us/step\n"
     ]
    },
    {
     "data": {
      "text/plain": [
       "[1.4548413188934326, 0.7866]"
      ]
     },
     "execution_count": 9,
     "metadata": {},
     "output_type": "execute_result"
    }
   ],
   "source": [
    "model.evaluate(X_test, y_test, batch_size=256)"
   ]
  },
  {
   "cell_type": "code",
   "execution_count": null,
   "metadata": {},
   "outputs": [],
   "source": []
  }
 ],
 "metadata": {
  "kernelspec": {
   "display_name": "Python 3",
   "language": "python",
   "name": "python3"
  },
  "language_info": {
   "codemirror_mode": {
    "name": "ipython",
    "version": 3
   },
   "file_extension": ".py",
   "mimetype": "text/x-python",
   "name": "python",
   "nbconvert_exporter": "python",
   "pygments_lexer": "ipython3",
   "version": "3.5.5"
  }
 },
 "nbformat": 4,
 "nbformat_minor": 2
}
